{
  "nbformat": 4,
  "nbformat_minor": 0,
  "metadata": {
    "colab": {
      "name": "Edvīns.EDIBO1.ipynb",
      "provenance": [],
      "authorship_tag": "ABX9TyNOuertYwm0b6mXdva+FTAB",
      "include_colab_link": true
    },
    "kernelspec": {
      "name": "python3",
      "display_name": "Python 3"
    },
    "language_info": {
      "name": "python"
    }
  },
  "cells": [
    {
      "cell_type": "markdown",
      "metadata": {
        "id": "view-in-github",
        "colab_type": "text"
      },
      "source": [
        "<a href=\"https://colab.research.google.com/github/EdvinsVormsbehers/EDIBO_1/blob/main/Edv%C4%ABns_EDIBO1.ipynb\" target=\"_parent\"><img src=\"https://colab.research.google.com/assets/colab-badge.svg\" alt=\"Open In Colab\"/></a>"
      ]
    },
    {
      "cell_type": "markdown",
      "metadata": {
        "id": "gQ_2Ror5txp4"
      },
      "source": [
        "EDIBO Lesson 1 Bubble Sort"
      ]
    },
    {
      "cell_type": "markdown",
      "metadata": {
        "id": "YQeWnpVyt7vI"
      },
      "source": [
        "version 1"
      ]
    },
    {
      "cell_type": "code",
      "metadata": {
        "id": "jAOvGhH3WfVK"
      },
      "source": [
        "#Ierakstam vēlamo vārdu, ko vēlamies sakārtot (burtus vārdā alfabēta secībā)\n",
        "n = input('Write your name: ')\n",
        "\n",
        "#Tiek izpildīta sorted funkcija\n",
        "n = \"\".join(sorted(n))\n",
        "\n",
        "#Tiek izvadīts jauns vārds, kurā burti ir sakārkoti\n",
        "print(n)\n"
      ],
      "execution_count": null,
      "outputs": []
    },
    {
      "cell_type": "markdown",
      "metadata": {
        "id": "XeyGUhopt-PA"
      },
      "source": [
        "version 2"
      ]
    },
    {
      "cell_type": "code",
      "metadata": {
        "id": "GEauBHfzqiAb"
      },
      "source": [
        "string = input(\"Enter your name: \")\n",
        "\n",
        "x = list(string)\n",
        "\n",
        "len_x = len(x)\n",
        "\n",
        "for i in range(len_x-1):\n",
        "  for j in range(len_x-i-1):\n",
        "    if x[j] > x[j+1]:\n",
        "      x[j],x[j+1] = x[j+1], x[j]\n",
        "\n",
        "new_string = \"\"\n",
        "for m in x:\n",
        "  new_string+=m"
      ],
      "execution_count": null,
      "outputs": []
    },
    {
      "cell_type": "markdown",
      "metadata": {
        "id": "wMXSSkF7uAZI"
      },
      "source": [
        "version 3"
      ]
    },
    {
      "cell_type": "code",
      "metadata": {
        "id": "uTFXV2supPL6"
      },
      "source": [
        "def nameSorter(badNames):\n",
        "  size = len(badNames)\n",
        "  for i in range(size):\n",
        "    for j in range(0, size=i-1):\n",
        "      if arr[j] > arr[j+1]:\n",
        "        arr[j], arr[j+1] = arr[j+1], arr[j]\n",
        "\n",
        "n = 'ALICE'\n",
        "n = name.upper()\n",
        "arr = list(n)\n",
        "nameSorter(arr)\n",
        "strl = ''.join(arr)\n",
        "print (strl)"
      ],
      "execution_count": null,
      "outputs": []
    },
    {
      "cell_type": "markdown",
      "metadata": {
        "id": "WXpuHeqxts7r"
      },
      "source": [
        "version 4"
      ]
    },
    {
      "cell_type": "code",
      "metadata": {
        "id": "rHbWGWILogKZ"
      },
      "source": [
        "n = \"Alice\"\n",
        "n_list = list(n.lower())\n",
        "is_sorted = False\n",
        "\n",
        "while not is_sorted:\n",
        "    for i in range(len(n_list)-1):\n",
        "        if n_list[i] > n_list[i+1]:\n",
        "            n_list[i + 1], n_list[i] = n_list[i], n_list[i+1]\n",
        "            break\n",
        "    else:\n",
        "        is_sorted = True\n",
        "\n",
        "print(\"\".join(n_list))"
      ],
      "execution_count": null,
      "outputs": []
    },
    {
      "cell_type": "markdown",
      "metadata": {
        "id": "rZ4pDberuG-4"
      },
      "source": [
        "version 5 - not mine"
      ]
    },
    {
      "cell_type": "code",
      "metadata": {
        "id": "Sx69HkQLoNDz"
      },
      "source": [
        "  \n",
        "import ctypes\n",
        "\n",
        "def split( string: str ) -> ctypes.Array:\n",
        "    return [char for char in string]\n",
        "\n",
        "def list_to_string( array ) -> str:\n",
        "    str = \"\"\n",
        "    for i in array:\n",
        "        str += i\n",
        "    return str\n",
        "\n",
        "def sort_alphabetical_order(input_string : str) -> str:\n",
        "\n",
        "    input_string = input_string.lower() # FIXME: without this we will get wrong results as capital chars have a lower number then lowercase\n",
        "    array = split(input_string)\n",
        "\n",
        "    n = len(array)\n",
        "\n",
        "    for i in range(n):\n",
        "        for j in range(n - i - 1):\n",
        "            if array[j] > array[j + 1]:\n",
        "                temp_var = array[j]\n",
        "                array[j] = array[j + 1]\n",
        "                array[j + 1] = temp_var\n",
        "                \n",
        "    \n",
        "    new_string = list_to_string(array)\n",
        "    return new_string\n",
        "\n",
        "str = input(\" input any text you would like to sort in alphabetical order! \")\n",
        "\n",
        "\n",
        "new_string = sort_alphabetical_order(str)\n",
        "print(new_string)"
      ],
      "execution_count": null,
      "outputs": []
    }
  ]
}